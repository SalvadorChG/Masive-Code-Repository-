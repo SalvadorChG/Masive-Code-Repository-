{
  "nbformat": 4,
  "nbformat_minor": 0,
  "metadata": {
    "colab": {
      "provenance": [],
      "authorship_tag": "ABX9TyNKf4KYJQSgybElmdtcDb1O",
      "include_colab_link": true
    },
    "kernelspec": {
      "name": "python3",
      "display_name": "Python 3"
    },
    "language_info": {
      "name": "python"
    }
  },
  "cells": [
    {
      "cell_type": "markdown",
      "metadata": {
        "id": "view-in-github",
        "colab_type": "text"
      },
      "source": [
        "<a href=\"https://colab.research.google.com/github/SalvadorChG/Masive-Code-Repository-/blob/main/cut_vert.ipynb\" target=\"_parent\"><img src=\"https://colab.research.google.com/assets/colab-badge.svg\" alt=\"Open In Colab\"/></a>"
      ]
    },
    {
      "cell_type": "markdown",
      "source": [
        "Articulation Points Code in Python by Neelam Yadav, \n",
        "Javier Chávez, and Salvador Chávez "
      ],
      "metadata": {
        "id": "0BFbOCPb7LQC"
      }
    },
    {
      "cell_type": "code",
      "execution_count": 8,
      "metadata": {
        "colab": {
          "base_uri": "https://localhost:8080/"
        },
        "id": "BeDQL1y9xSFn",
        "outputId": "33b19c33-da0e-42e8-e1af-baef8296584a"
      },
      "outputs": [
        {
          "output_type": "stream",
          "name": "stdout",
          "text": [
            "5 5\n",
            "1 2\n",
            "1 4\n",
            "4 2 \n",
            "2 3 \n",
            "3 5 \n",
            "2 3 "
          ]
        }
      ],
      "source": [
        "from collections import defaultdict\n",
        "G = input()\n",
        "G = G.split()\n",
        "E = int(G[1])\n",
        "V = int(G[0])\n",
        "pairs = []\n",
        "for e in range(E):\n",
        "    x = input()\n",
        "    x = x.split()\n",
        "    x = [int(x[0]),int(x[1])]\n",
        "    pairs.append(x)\n",
        "\n",
        "class Graph:\n",
        "  \n",
        "    def __init__(self, vertices):\n",
        "        self.V = vertices \n",
        "        self.graph = defaultdict(list)\n",
        "        self.Time = 0\n",
        "\n",
        "    def addEdge(self, u, v):\n",
        "        self.graph[u].append(v)\n",
        "        self.graph[v].append(u)\n",
        "\n",
        "    def APUtil(self, u, visited, ap, parent, low, disc):\n",
        "        children = 0\n",
        "        visited[u]= True\n",
        "        disc[u] = self.Time\n",
        "        low[u] = self.Time\n",
        "        self.Time += 1\n",
        "        for v in self.graph[u]:\n",
        "            if visited[v] == False :\n",
        "                parent[v] = u\n",
        "                children += 1\n",
        "                self.APUtil(v, visited, ap, parent, low, disc)\n",
        "                low[u] = min(low[u], low[v])\n",
        "                if parent[u] == -1 and children > 1:\n",
        "                    ap[u] = True\n",
        "                if parent[u] != -1 and low[v] >= disc[u]:\n",
        "                    ap[u] = True   \n",
        "            elif v != parent[u]:\n",
        "                low[u] = min(low[u], disc[v])\n",
        "\n",
        "    def AP(self):\n",
        "        visited = [False] * (self.V)\n",
        "        disc = [float(\"Inf\")] * (self.V)\n",
        "        low = [float(\"Inf\")] * (self.V)\n",
        "        parent = [-1] * (self.V)\n",
        "        ap = [False] * (self.V) \n",
        "\n",
        "        for i in range(self.V):\n",
        "            if visited[i] == False:\n",
        "                self.APUtil(i, visited, ap, parent, low, disc)\n",
        "        resul = []\n",
        "        for index, value in enumerate (ap):\n",
        "            if value == True: \n",
        "                resul.append(index)\n",
        "     \n",
        "        print(*resul)\n",
        "g1 = Graph(V+1)\n",
        "for k in (pairs):\n",
        "    g1.addEdge(k[0],k[1])\n",
        "g1.AP()"
      ]
    }
  ]
}